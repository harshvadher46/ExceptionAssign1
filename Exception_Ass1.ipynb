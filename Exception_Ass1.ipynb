{
 "cells": [
  {
   "cell_type": "code",
   "execution_count": 2,
   "id": "61f1268b-cc51-4d93-b4d7-7119685ebc97",
   "metadata": {},
   "outputs": [
    {
     "ename": "SyntaxError",
     "evalue": "invalid syntax. Maybe you meant '==' or ':=' instead of '='? (59253469.py, line 7)",
     "output_type": "error",
     "traceback": [
      "\u001b[0;36m  Cell \u001b[0;32mIn[2], line 7\u001b[0;36m\u001b[0m\n\u001b[0;31m    if x = 5:  # Syntax Error: should be 'if x == 5:'\u001b[0m\n\u001b[0m       ^\u001b[0m\n\u001b[0;31mSyntaxError\u001b[0m\u001b[0;31m:\u001b[0m invalid syntax. Maybe you meant '==' or ':=' instead of '='?\n"
     ]
    }
   ],
   "source": [
    "#1.What is an Exception in python \n",
    "#In Python, an exception is an event that occurs during the execution of a program and disrupts the normal flow of the program\n",
    "\n",
    "#Syntax Error\n",
    "#A syntax error is an error that occurs when the Python interpreter encounters code that does not conform to the language's syntax rules\n",
    "\n",
    "if x = 5:  # Syntax Error: should be 'if x == 5:'\n",
    "    print(\"x is 5\")\n",
    "    \n",
    "try:\n",
    "    result = 10 / 0  # Raises a 'ZeroDivisionError' exception\n",
    "except ZeroDivisionError as e:\n",
    "    print(\"An exception occurred:\", e)\n"
   ]
  },
  {
   "cell_type": "code",
   "execution_count": 3,
   "id": "d27ef8e5-fff0-450a-b7cd-0067c0bc5c8f",
   "metadata": {},
   "outputs": [
    {
     "ename": "ZeroDivisionError",
     "evalue": "division by zero",
     "output_type": "error",
     "traceback": [
      "\u001b[0;31m---------------------------------------------------------------------------\u001b[0m",
      "\u001b[0;31mZeroDivisionError\u001b[0m                         Traceback (most recent call last)",
      "Cell \u001b[0;32mIn[3], line 8\u001b[0m\n\u001b[1;32m      5\u001b[0m \u001b[38;5;28;01mdef\u001b[39;00m \u001b[38;5;21mdivide\u001b[39m(a, b):\n\u001b[1;32m      6\u001b[0m     \u001b[38;5;28;01mreturn\u001b[39;00m a \u001b[38;5;241m/\u001b[39m b\n\u001b[0;32m----> 8\u001b[0m result \u001b[38;5;241m=\u001b[39m \u001b[43mdivide\u001b[49m\u001b[43m(\u001b[49m\u001b[38;5;241;43m10\u001b[39;49m\u001b[43m,\u001b[49m\u001b[43m \u001b[49m\u001b[38;5;241;43m0\u001b[39;49m\u001b[43m)\u001b[49m  \u001b[38;5;66;03m# This will raise a ZeroDivisionError\u001b[39;00m\n\u001b[1;32m      9\u001b[0m \u001b[38;5;28mprint\u001b[39m(\u001b[38;5;124m\"\u001b[39m\u001b[38;5;124mResult:\u001b[39m\u001b[38;5;124m\"\u001b[39m, result)\n",
      "Cell \u001b[0;32mIn[3], line 6\u001b[0m, in \u001b[0;36mdivide\u001b[0;34m(a, b)\u001b[0m\n\u001b[1;32m      5\u001b[0m \u001b[38;5;28;01mdef\u001b[39;00m \u001b[38;5;21mdivide\u001b[39m(a, b):\n\u001b[0;32m----> 6\u001b[0m     \u001b[38;5;28;01mreturn\u001b[39;00m \u001b[43ma\u001b[49m\u001b[43m \u001b[49m\u001b[38;5;241;43m/\u001b[39;49m\u001b[43m \u001b[49m\u001b[43mb\u001b[49m\n",
      "\u001b[0;31mZeroDivisionError\u001b[0m: division by zero"
     ]
    }
   ],
   "source": [
    "#Q.2\n",
    "#When an exception is not handled in Python, it propagates up the call stack, and if it's not caught at any point in the program,\n",
    "#it will lead to the termination of the program.\n",
    "\n",
    "def divide(a, b):\n",
    "    return a / b\n",
    "\n",
    "result = divide(10, 0)  # This will raise a ZeroDivisionError\n",
    "print(\"Result:\", result)\n",
    "#in this example, the divide function attempts to divide a by b, and when b is 0, \n",
    "#it raises a ZeroDivisionError because dividing by zero is not allowed in Python.\n",
    "#However, there is no try-except block in place to catch and handle this exception"
   ]
  },
  {
   "cell_type": "code",
   "execution_count": 4,
   "id": "28408f5b-b6b6-4da6-ae47-141e4632289b",
   "metadata": {},
   "outputs": [
    {
     "name": "stdout",
     "output_type": "stream",
     "text": [
      "Cannot divide by zero\n",
      "Result 1: 5.0\n",
      "Result 2: None\n"
     ]
    }
   ],
   "source": [
    "#Q-3\n",
    "'''In Python, you can use the try and except statements to catch and handle exceptions. \n",
    "The try block is used to enclose the code that may raise an exception,\n",
    "while the except block is used to specify how to handle the exception when it occurs.'''\n",
    "\n",
    "'''try:\n",
    "    # Code that may raise an exception\n",
    "except ExceptionType:\n",
    "    # Code to handle the exception'''\n",
    "\n",
    "    #Example of using try & cstch block\n",
    "def divide(a, b):\n",
    "    try:\n",
    "        result = a / b\n",
    "    except ZeroDivisionError:\n",
    "        print(\"Cannot divide by zero\")\n",
    "        result = None\n",
    "    return result\n",
    "\n",
    "result1 = divide(10, 2)\n",
    "result2 = divide(10, 0)\n",
    "\n",
    "print(\"Result 1:\", result1)\n",
    "print(\"Result 2:\", result2)\n"
   ]
  },
  {
   "cell_type": "code",
   "execution_count": 5,
   "id": "4682c641-4f07-44bd-ab08-0f358397545d",
   "metadata": {},
   "outputs": [
    {
     "name": "stdout",
     "output_type": "stream",
     "text": [
      "Division was successful. Result: 5.0\n",
      "Error: Cannot divide by zero\n"
     ]
    }
   ],
   "source": [
    "#Q.4\n",
    "'''In Python, you can use a try block to handle exceptions, and optionally, \n",
    "you can include an else block to specify code that should be executed if no exceptions are raised within the try block. \n",
    "The else block is executed when there are no exceptions.'''\n",
    "def divide(a, b):\n",
    "    try:\n",
    "        result = a / b\n",
    "    except ZeroDivisionError:\n",
    "        print(\"Error: Cannot divide by zero\")\n",
    "    else:\n",
    "        print(\"Division was successful. Result:\", result)\n",
    "\n",
    "# Test the function\n",
    "result1 = divide(10, 2)\n",
    "result2 = divide(10, 0)\n",
    "\n"
   ]
  },
  {
   "cell_type": "code",
   "execution_count": 6,
   "id": "ae595430-ebfd-45c3-8e49-3aebe1843b9a",
   "metadata": {},
   "outputs": [
    {
     "name": "stdout",
     "output_type": "stream",
     "text": [
      "File not found\n"
     ]
    },
    {
     "ename": "NameError",
     "evalue": "name 'file' is not defined",
     "output_type": "error",
     "traceback": [
      "\u001b[0;31m---------------------------------------------------------------------------\u001b[0m",
      "\u001b[0;31mNameError\u001b[0m                                 Traceback (most recent call last)",
      "Cell \u001b[0;32mIn[6], line 12\u001b[0m\n\u001b[1;32m     10\u001b[0m     \u001b[38;5;28mprint\u001b[39m(\u001b[38;5;124m\"\u001b[39m\u001b[38;5;124mFile contents:\u001b[39m\u001b[38;5;124m\"\u001b[39m, data)\n\u001b[1;32m     11\u001b[0m \u001b[38;5;28;01mfinally\u001b[39;00m:\n\u001b[0;32m---> 12\u001b[0m     \u001b[43mfile\u001b[49m\u001b[38;5;241m.\u001b[39mclose()\n",
      "\u001b[0;31mNameError\u001b[0m: name 'file' is not defined"
     ]
    }
   ],
   "source": [
    "#Q.4 b.Finally\n",
    "'''The finally block is used to specify code that should be executed regardless of whether an exception was raised or not.\n",
    "It is often used to perform cleanup tasks, such as closing files or releasing resources.'''\n",
    "try:\n",
    "    file = open(\"example.txt\", \"r\")\n",
    "    data = file.read()\n",
    "except FileNotFoundError:\n",
    "    print(\"File not found\")\n",
    "else:\n",
    "    print(\"File contents:\", data)\n",
    "finally:\n",
    "    file.close()\n"
   ]
  },
  {
   "cell_type": "code",
   "execution_count": 7,
   "id": "008ebcb1-18bd-4a4b-8a68-8c9aef07ceb9",
   "metadata": {},
   "outputs": [
    {
     "name": "stdout",
     "output_type": "stream",
     "text": [
      "Custom exception caught: Value cannot be negative\n"
     ]
    }
   ],
   "source": [
    "'''Q-4-c Raise\n",
    "You can use the raise statement to explicitly raise an exception in your code.\n",
    "This is useful when you want to create and raise custom exceptions or re-raise exceptions'''\n",
    "class CustomException(Exception):\n",
    "    pass\n",
    "\n",
    "def check_value(value):\n",
    "    if value < 0:\n",
    "        raise CustomException(\"Value cannot be negative\")\n",
    "\n",
    "try:\n",
    "    check_value(-5)\n",
    "except CustomException as ce:\n",
    "    print(\"Custom exception caught:\", ce)\n"
   ]
  },
  {
   "cell_type": "code",
   "execution_count": 8,
   "id": "f9a79f27-93d7-4bfc-ba8e-481388e26175",
   "metadata": {},
   "outputs": [
    {
     "name": "stdout",
     "output_type": "stream",
     "text": [
      "Withdrawal successful.\n",
      "Insufficient funds: You tried to withdraw 150, but your balance is only 100.\n"
     ]
    }
   ],
   "source": [
    "#Q.5\n",
    "'''n Python, a custom exception is an exception that you create by defining your own exception class.\n",
    "Custom exceptions are used when the built-in exception classes provided by Python are not sufficient to express \n",
    "the nature of an error in your code or when you want to add specific information or behavior to exceptions raised by your code.'''\n",
    "# Example of custom exception \n",
    "\n",
    "class InsufficientFundsError(Exception):\n",
    "    def __init__(self, amount, balance):\n",
    "        self.amount = amount\n",
    "        self.balance = balance\n",
    "        self.message = f\"Insufficient funds: You tried to withdraw {amount}, but your balance is only {balance}.\"\n",
    "\n",
    "def withdraw(balance, amount):\n",
    "    if amount > balance:\n",
    "        raise InsufficientFundsError(amount, balance)\n",
    "    else:\n",
    "        print(\"Withdrawal successful.\")\n",
    "\n",
    "try:\n",
    "    withdraw(100, 50)\n",
    "    withdraw(100, 150)\n",
    "except InsufficientFundsError as e:\n",
    "    print(e.message)\n"
   ]
  },
  {
   "cell_type": "code",
   "execution_count": 9,
   "id": "fa4706a5-2ce8-4448-9897-67e99f788e9d",
   "metadata": {},
   "outputs": [
    {
     "name": "stdout",
     "output_type": "stream",
     "text": [
      "Error: Invalid email address: example.com\n"
     ]
    }
   ],
   "source": [
    "#Q-6\n",
    "'''Sure, let's create a custom exception class and then use it to handle an exception. In this example, \n",
    "we will create a custom exception called InvalidEmailError to handle situations where an email address is considered invalid.'''\n",
    "class InvalidEmailError(Exception):\n",
    "    def __init__(self, email):\n",
    "        self.email = email\n",
    "        self.message = f\"Invalid email address: {email}\"\n",
    "\n",
    "def validate_email(email):\n",
    "    if \"@\" not in email:\n",
    "        raise InvalidEmailError(email)\n",
    "\n",
    "# Example usage\n",
    "try:\n",
    "    email = \"example.com\"  # Invalid email address\n",
    "    validate_email(email)\n",
    "except InvalidEmailError as e:\n",
    "    print(\"Error:\", e.message)\n"
   ]
  },
  {
   "cell_type": "code",
   "execution_count": null,
   "id": "d3cea3b2-be4b-4d79-898a-5cd4842e6b8f",
   "metadata": {},
   "outputs": [],
   "source": []
  }
 ],
 "metadata": {
  "kernelspec": {
   "display_name": "Python 3 (ipykernel)",
   "language": "python",
   "name": "python3"
  },
  "language_info": {
   "codemirror_mode": {
    "name": "ipython",
    "version": 3
   },
   "file_extension": ".py",
   "mimetype": "text/x-python",
   "name": "python",
   "nbconvert_exporter": "python",
   "pygments_lexer": "ipython3",
   "version": "3.10.8"
  }
 },
 "nbformat": 4,
 "nbformat_minor": 5
}
